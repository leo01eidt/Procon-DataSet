{
 "cells": [
  {
   "cell_type": "code",
   "execution_count": 1,
   "id": "fde945aa-eeda-4e18-b19d-7163ab1dc8b5",
   "metadata": {},
   "outputs": [],
   "source": [
    "import pandas as pd\n",
    "import seaborn as sns\n",
    "import matplotlib.pyplot as plt\n",
    "import numpy as np\n",
    "import warnings"
   ]
  },
  {
   "cell_type": "code",
   "execution_count": 2,
   "id": "857dd400-7f10-4be7-a72c-1df0cae8f42b",
   "metadata": {},
   "outputs": [],
   "source": [
    "data = pd.read_csv('C:/Users/leo01/IESBAtividade1/reclamacoes-fundamentadas-sindec-2016.csv', delimiter = ';')"
   ]
  },
  {
   "cell_type": "code",
   "execution_count": 3,
   "id": "899eb98c-0971-4b9e-926a-daad9b613e8f",
   "metadata": {},
   "outputs": [
    {
     "data": {
      "text/plain": [
       "Index(['AnoCalendario', 'DataArquivamento', 'DataAbertura', 'CodigoRegiao',\n",
       "       'Regiao', 'UF', 'strRazaoSocial', 'strNomeFantasia', 'Tipo',\n",
       "       'NumeroCNPJ', 'RadicalCNPJ', 'RazaoSocialRFB', 'NomeFantasiaRFB',\n",
       "       'CNAEPrincipal', 'DescCNAEPrincipal', 'Atendida', 'CodigoAssunto',\n",
       "       'DescricaoAssunto', 'CodigoProblema', 'DescricaoProblema',\n",
       "       'SexoConsumidor', 'FaixaEtariaConsumidor', 'CEPConsumidor'],\n",
       "      dtype='object')"
      ]
     },
     "execution_count": 3,
     "metadata": {},
     "output_type": "execute_result"
    }
   ],
   "source": [
    "data.keys()"
   ]
  },
  {
   "cell_type": "code",
   "execution_count": 6,
   "id": "5cbb3bbf-70ac-4cb8-b443-24a2887a496d",
   "metadata": {},
   "outputs": [
    {
     "data": {
      "text/plain": [
       "S    120575\n",
       "N     82910\n",
       "Name: Atendida, dtype: int64"
      ]
     },
     "execution_count": 6,
     "metadata": {},
     "output_type": "execute_result"
    }
   ],
   "source": [
    "#1. Quantas reclamações foram feitas em 2016?\n",
    "\n",
    "data['Atendida'].value_counts()"
   ]
  },
  {
   "cell_type": "code",
   "execution_count": 7,
   "id": "bdd6cd12-58dc-4c31-9767-4a05ee0f710b",
   "metadata": {},
   "outputs": [
    {
     "name": "stdout",
     "output_type": "stream",
     "text": [
      "203485\n"
     ]
    }
   ],
   "source": [
    "#Resposta pergunta 1 \n",
    "\n",
    "Total_Rec = 120575 + 82910\n",
    "\n",
    "print(Total_Rec)\n",
    "\n",
    "#Total de 203485 reclamações."
   ]
  },
  {
   "cell_type": "code",
   "execution_count": 8,
   "id": "557442d6-d4c2-43a4-a9ed-ff192a026b44",
   "metadata": {},
   "outputs": [],
   "source": [
    "#2. Qual região houve mais reclamações? Qual houve menos?\n",
    "\n",
    "data_temp = data[['Regiao', 'Atendida']]"
   ]
  },
  {
   "cell_type": "code",
   "execution_count": 9,
   "id": "b8d524c8-8a85-4490-a011-3f8bee5ce788",
   "metadata": {},
   "outputs": [
    {
     "data": {
      "text/plain": [
       "Nordeste        66411\n",
       "Sudeste         62974\n",
       "Centro-oeste    28786\n",
       "Sul             26113\n",
       "Norte           19201\n",
       "Name: Regiao, dtype: int64"
      ]
     },
     "execution_count": 9,
     "metadata": {},
     "output_type": "execute_result"
    }
   ],
   "source": [
    "data_temp['Regiao'].value_counts()"
   ]
  },
  {
   "cell_type": "code",
   "execution_count": 10,
   "id": "6e10156f-96a8-4c5c-b332-976c3178c948",
   "metadata": {},
   "outputs": [
    {
     "data": {
      "text/plain": [
       "S    120575\n",
       "N     82910\n",
       "Name: Atendida, dtype: int64"
      ]
     },
     "execution_count": 10,
     "metadata": {},
     "output_type": "execute_result"
    }
   ],
   "source": [
    "data_temp['Atendida'].value_counts()"
   ]
  },
  {
   "cell_type": "code",
   "execution_count": 11,
   "id": "f84e28c7-c733-4a8f-8734-0ff8c3764b6e",
   "metadata": {},
   "outputs": [
    {
     "data": {
      "text/plain": [
       "<AxesSubplot:xlabel='Regiao', ylabel='count'>"
      ]
     },
     "execution_count": 11,
     "metadata": {},
     "output_type": "execute_result"
    },
    {
     "data": {
      "image/png": "[encoded data removed]",
      "text/plain": [
       "<Figure size 432x288 with 1 Axes>"
      ]
     },
     "metadata": {
      "needs_background": "light"
     },
     "output_type": "display_data"
    }
   ],
   "source": [
    "sns.countplot(x='Regiao', hue='Atendida', data=data_temp)"
   ]
  },
  {
   "cell_type": "code",
   "execution_count": 12,
   "id": "dc04c62a-30e2-41f7-afef-b3c545417832",
   "metadata": {},
   "outputs": [],
   "source": [
    "#Resposta 2 = A região com mais números de reclamações é o Nordeste, e a com menor número de reclamações é o Norte."
   ]
  },
  {
   "cell_type": "code",
   "execution_count": 13,
   "id": "bd2749fb-8491-4f2e-8ebc-a8488ad84c00",
   "metadata": {},
   "outputs": [],
   "source": [
    "#3. Qual a quantidade de reclamações feitas por homens? E por mulheres?\n",
    "\n",
    "data_temp = data[['SexoConsumidor', 'Atendida']]"
   ]
  },
  {
   "cell_type": "code",
   "execution_count": 14,
   "id": "de0d85dd-5f90-4d7c-97d7-48dfc8d29549",
   "metadata": {},
   "outputs": [
    {
     "data": {
      "text/plain": [
       "F    107229\n",
       "M     94445\n",
       "N      1809\n",
       "Name: SexoConsumidor, dtype: int64"
      ]
     },
     "execution_count": 14,
     "metadata": {},
     "output_type": "execute_result"
    }
   ],
   "source": [
    "data_temp['SexoConsumidor'].value_counts()"
   ]
  },
  {
   "cell_type": "code",
   "execution_count": 15,
   "id": "09f41252-86f2-4a6b-a87e-ecf06f2ab3f7",
   "metadata": {},
   "outputs": [
    {
     "data": {
      "text/plain": [
       "S    120575\n",
       "N     82910\n",
       "Name: Atendida, dtype: int64"
      ]
     },
     "execution_count": 15,
     "metadata": {},
     "output_type": "execute_result"
    }
   ],
   "source": [
    "data_temp['Atendida'].value_counts()"
   ]
  },
  {
   "cell_type": "code",
   "execution_count": 16,
   "id": "0e9e23d1-5e7b-4a9b-aa80-3f57ae37b0de",
   "metadata": {},
   "outputs": [
    {
     "data": {
      "text/plain": [
       "<AxesSubplot:xlabel='SexoConsumidor', ylabel='count'>"
      ]
     },
     "execution_count": 16,
     "metadata": {},
     "output_type": "execute_result"
    },
    {
     "data": {
      "image/png": "[encoded data removed]",
      "text/plain": [
       "<Figure size 432x288 with 1 Axes>"
      ]
     },
     "metadata": {
      "needs_background": "light"
     },
     "output_type": "display_data"
    }
   ],
   "source": [
    "sns.countplot(x='SexoConsumidor', hue='Atendida', data=data_temp)"
   ]
  },
  {
   "cell_type": "code",
   "execution_count": 17,
   "id": "7047b3be-ce06-41d6-821f-35746b45a61d",
   "metadata": {},
   "outputs": [],
   "source": [
    "#Resposta 3 = 107229 reclamações feitas por mulheres, 94445 reclamações feitas por homens. Isso incluí atendidas e não atendidas\n",
    "#O gráfico acima mostra o resultado das reclamações feitas por homens e mulheres e se foram atendidas ou não."
   ]
  },
  {
   "cell_type": "code",
   "execution_count": 18,
   "id": "7dd58d3e-4ef0-4e35-8897-af5e7d82df5e",
   "metadata": {},
   "outputs": [],
   "source": [
    "#4. Em qual região os homens fizeram mais reclamações que as mulheres?\n",
    "data_temp = data[['Regiao', 'SexoConsumidor']]"
   ]
  },
  {
   "cell_type": "code",
   "execution_count": 19,
   "id": "8fd62977-3e5b-456c-807c-85a3fb21a467",
   "metadata": {},
   "outputs": [
    {
     "data": {
      "text/plain": [
       "Nordeste        66411\n",
       "Sudeste         62974\n",
       "Centro-oeste    28786\n",
       "Sul             26113\n",
       "Norte           19201\n",
       "Name: Regiao, dtype: int64"
      ]
     },
     "execution_count": 19,
     "metadata": {},
     "output_type": "execute_result"
    }
   ],
   "source": [
    "data_temp['Regiao'].value_counts()"
   ]
  },
  {
   "cell_type": "code",
   "execution_count": 20,
   "id": "1e60f36e-acdc-41e1-abdd-7647aea4ae68",
   "metadata": {},
   "outputs": [
    {
     "data": {
      "text/plain": [
       "F    107229\n",
       "M     94445\n",
       "N      1809\n",
       "Name: SexoConsumidor, dtype: int64"
      ]
     },
     "execution_count": 20,
     "metadata": {},
     "output_type": "execute_result"
    }
   ],
   "source": [
    "data_temp['SexoConsumidor'].value_counts()"
   ]
  },
  {
   "cell_type": "code",
   "execution_count": 21,
   "id": "9ec8843d-a908-4ee9-aba9-215fe442b126",
   "metadata": {},
   "outputs": [
    {
     "data": {
      "text/plain": [
       "<AxesSubplot:xlabel='Regiao', ylabel='count'>"
      ]
     },
     "execution_count": 21,
     "metadata": {},
     "output_type": "execute_result"
    },
    {
     "data": {
      "image/png": "[encoded data removed]",
      "text/plain": [
       "<Figure size 432x288 with 1 Axes>"
      ]
     },
     "metadata": {
      "needs_background": "light"
     },
     "output_type": "display_data"
    }
   ],
   "source": [
    "sns.countplot(x='Regiao', hue='SexoConsumidor', data=data_temp)\n"
   ]
  },
  {
   "cell_type": "code",
   "execution_count": 22,
   "id": "3725a1cb-558d-4f91-aba9-85540f599975",
   "metadata": {},
   "outputs": [],
   "source": [
    "#Resposta 4 = Os homens fizeram mais reclamações que as mulheres na região Sul."
   ]
  },
  {
   "cell_type": "code",
   "execution_count": 23,
   "id": "6dbdc5d8-b980-49bf-8820-fb541301388d",
   "metadata": {},
   "outputs": [],
   "source": [
    "#5. Qual faixa etária realizou mais reclamações?\n",
    "\n",
    "data_temp = data[['FaixaEtariaConsumidor', 'Atendida']]"
   ]
  },
  {
   "cell_type": "code",
   "execution_count": 24,
   "id": "661ec62a-8477-4994-ab20-481177e28a6e",
   "metadata": {},
   "outputs": [
    {
     "data": {
      "text/plain": [
       "entre 31 a 40 anos    45422\n",
       "entre 41 a 50 anos    37963\n",
       "entre 21 a 30 anos    33237\n",
       "entre 51 a 60 anos    31717\n",
       "entre 61 a 70 anos    22659\n",
       "Nao Informada         16790\n",
       "mais de 70 anos       10893\n",
       "até 20 anos            4804\n",
       "Name: FaixaEtariaConsumidor, dtype: int64"
      ]
     },
     "execution_count": 24,
     "metadata": {},
     "output_type": "execute_result"
    }
   ],
   "source": [
    "data_temp['FaixaEtariaConsumidor'].value_counts()"
   ]
  },
  {
   "cell_type": "code",
   "execution_count": 25,
   "id": "317967eb-f711-4ca6-a65c-26aa421437ca",
   "metadata": {},
   "outputs": [
    {
     "data": {
      "text/plain": [
       "S    120575\n",
       "N     82910\n",
       "Name: Atendida, dtype: int64"
      ]
     },
     "execution_count": 25,
     "metadata": {},
     "output_type": "execute_result"
    }
   ],
   "source": [
    "data_temp['Atendida'].value_counts()"
   ]
  },
  {
   "cell_type": "code",
   "execution_count": 26,
   "id": "15bbddd5-a2eb-426b-a64f-8d60893d9b73",
   "metadata": {},
   "outputs": [
    {
     "data": {
      "text/plain": [
       "<AxesSubplot:xlabel='Atendida', ylabel='count'>"
      ]
     },
     "execution_count": 26,
     "metadata": {},
     "output_type": "execute_result"
    },
    {
     "data": {
      "image/png": "[encoded data removed]",
      "text/plain": [
       "<Figure size 864x864 with 1 Axes>"
      ]
     },
     "metadata": {},
     "output_type": "display_data"
    }
   ],
   "source": [
    "sns.set(rc={'figure.figsize':(12, 12)})\n",
    "\n",
    "sns.countplot(x = 'Atendida', hue = 'FaixaEtariaConsumidor', data = data_temp)"
   ]
  },
  {
   "cell_type": "code",
   "execution_count": 27,
   "id": "9a14f333-c396-40ba-ab02-9ffa5d307b7a",
   "metadata": {},
   "outputs": [],
   "source": [
    "#Resposta 5 = A faixa etária entre 31 e 40 anos realizaram mais reclamações, tanto quanto atendidas e não atendidas."
   ]
  },
  {
   "cell_type": "code",
   "execution_count": 28,
   "id": "6749dc95-4dfc-4a64-9ec3-100a02274f10",
   "metadata": {},
   "outputs": [
    {
     "data": {
      "text/plain": [
       "Index(['AnoCalendario', 'DataArquivamento', 'DataAbertura', 'CodigoRegiao',\n",
       "       'Regiao', 'UF', 'strRazaoSocial', 'strNomeFantasia', 'Tipo',\n",
       "       'NumeroCNPJ', 'RadicalCNPJ', 'RazaoSocialRFB', 'NomeFantasiaRFB',\n",
       "       'CNAEPrincipal', 'DescCNAEPrincipal', 'Atendida', 'CodigoAssunto',\n",
       "       'DescricaoAssunto', 'CodigoProblema', 'DescricaoProblema',\n",
       "       'SexoConsumidor', 'FaixaEtariaConsumidor', 'CEPConsumidor'],\n",
       "      dtype='object')"
      ]
     },
     "execution_count": 28,
     "metadata": {},
     "output_type": "execute_result"
    }
   ],
   "source": [
    "#6. Quais assuntos apresentam mais reclamações em 2016?\n",
    "\n",
    "data.keys()"
   ]
  },
  {
   "cell_type": "code",
   "execution_count": 29,
   "id": "07ca1734-78d4-462b-988a-fc5c1b677121",
   "metadata": {},
   "outputs": [],
   "source": [
    "data_temp = data[['Atendida', 'DescricaoAssunto']]"
   ]
  },
  {
   "cell_type": "code",
   "execution_count": 30,
   "id": "05de7f3f-0f7b-4bef-892f-4b72a6df390c",
   "metadata": {},
   "outputs": [
    {
     "data": {
      "text/plain": [
       "S    120575\n",
       "N     82910\n",
       "Name: Atendida, dtype: int64"
      ]
     },
     "execution_count": 30,
     "metadata": {},
     "output_type": "execute_result"
    }
   ],
   "source": [
    "data_temp['Atendida'].value_counts()"
   ]
  },
  {
   "cell_type": "code",
   "execution_count": 31,
   "id": "348cbea9-1d4e-4459-b5a5-3271a251a77b",
   "metadata": {},
   "outputs": [
    {
     "data": {
      "text/plain": [
       "Telefone ( Convencional, Celular, Interfone, Etc. )                                                               21272\n",
       "Telefonia Celular                                                                                                 15102\n",
       "Cartão de Crédito                                                                                                 11774\n",
       "Telefonia Fixa ( Plano de Expansão / Compra e Venda / Locação )                                                   11056\n",
       "Banco comercial                                                                                                    9274\n",
       "                                                                                                                  ...  \n",
       "Ovos                                                                                                                  1\n",
       "Farináceos (fubá, polvilho, etc.)                                                                                     1\n",
       "Profissional Liberal - Veterinário                                                                                    1\n",
       "Especiarias e Condimentos (orégano, pimenta, cravo, canela, páprica, noz moscada, alho e cebola desidratados).        1\n",
       "Ticket (vale refeição, alimentação e leite)                                                                           1\n",
       "Name: DescricaoAssunto, Length: 212, dtype: int64"
      ]
     },
     "execution_count": 31,
     "metadata": {},
     "output_type": "execute_result"
    }
   ],
   "source": [
    "data_temp['DescricaoAssunto'].value_counts()"
   ]
  },
  {
   "cell_type": "code",
   "execution_count": 32,
   "id": "71f59a76-35e9-4a5f-930c-7f48a3706179",
   "metadata": {},
   "outputs": [],
   "source": [
    "#Resposta 6 = Os assuntos que mais apresentam reclamações são: Telefone ( Convencional, Celular, Interfone, Etc. ), Telefonia Celular, Cartão de Crédito, Telefonia Fixa ( Plano de Expansão / Compra e Venda / Locação, Banco comercial) e Bancos  "
   ]
  },
  {
   "cell_type": "code",
   "execution_count": 33,
   "id": "611b6f48-fbd5-464c-a816-010b36d3aada",
   "metadata": {},
   "outputs": [
    {
     "data": {
      "text/plain": [
       "NomeFantasiaRFB     \n",
       "OI                      11216\n",
       "CLARO                    4991\n",
       "SKY                      3632\n",
       "CEF MATRIZ               2301\n",
       "SAMSUNG DA AMAZONIA      2091\n",
       "                        ...  \n",
       "FRAN CAR MULTIMARCAS        1\n",
       "FRANCA CAMINHOES            1\n",
       "FRANCARNE                   1\n",
       "FRANCECAR                   1\n",
       "JANETE                      1\n",
       "Length: 12865, dtype: int64"
      ]
     },
     "execution_count": 33,
     "metadata": {},
     "output_type": "execute_result"
    }
   ],
   "source": [
    "#7. Analisando o nome fantasia, determine qual empresa recebeu mais reclamações em 2016.\n",
    "\n",
    "data[['NomeFantasiaRFB']].value_counts()"
   ]
  },
  {
   "cell_type": "code",
   "execution_count": 34,
   "id": "a567da4d-45e9-4a82-853a-03eb1ce697a1",
   "metadata": {},
   "outputs": [],
   "source": [
    "#7. Analisando o nome fantasia, determine qual empresa recebeu mais reclamações em 2016.\n",
    "\n",
    "#Resposta 7 = A empresa que mais possui reclamações em 2016 é a \"Oi\""
   ]
  },
  {
   "cell_type": "code",
   "execution_count": 35,
   "id": "afa8d78f-34c2-4da7-bc44-56569d54151d",
   "metadata": {},
   "outputs": [],
   "source": [
    "#8. Qual empresa possui o maior percentual de reclamações atendidas?\n",
    "\n",
    "data_temp = data[['NomeFantasiaRFB', 'Atendida']]"
   ]
  },
  {
   "cell_type": "code",
   "execution_count": 36,
   "id": "2f3a8912-8793-4388-a663-ea13fa6d2c3a",
   "metadata": {},
   "outputs": [
    {
     "data": {
      "text/plain": [
       "NomeFantasiaRFB     \n",
       "OI                      11216\n",
       "CLARO                    4991\n",
       "SKY                      3632\n",
       "CEF MATRIZ               2301\n",
       "SAMSUNG DA AMAZONIA      2091\n",
       "                        ...  \n",
       "FRAN CAR MULTIMARCAS        1\n",
       "FRANCA CAMINHOES            1\n",
       "FRANCARNE                   1\n",
       "FRANCECAR                   1\n",
       "JANETE                      1\n",
       "Length: 12865, dtype: int64"
      ]
     },
     "execution_count": 36,
     "metadata": {},
     "output_type": "execute_result"
    }
   ],
   "source": [
    "data_temp[['NomeFantasiaRFB']].value_counts()"
   ]
  },
  {
   "cell_type": "code",
   "execution_count": 37,
   "id": "0e88d6fc-20ec-4f7d-8073-55987a7c5df9",
   "metadata": {},
   "outputs": [
    {
     "data": {
      "text/plain": [
       "Atendida\n",
       "S           120575\n",
       "N            82910\n",
       "dtype: int64"
      ]
     },
     "execution_count": 37,
     "metadata": {},
     "output_type": "execute_result"
    }
   ],
   "source": [
    "data_temp[['Atendida']].value_counts()"
   ]
  },
  {
   "cell_type": "code",
   "execution_count": 38,
   "id": "caf613c1-d5db-46ad-82b4-55b64db2a885",
   "metadata": {},
   "outputs": [
    {
     "name": "stdout",
     "output_type": "stream",
     "text": [
      "76.76533523537803\n"
     ]
    }
   ],
   "source": [
    "#R8 = A \"Oi\" de suas 11.216 reclamações, atendeu 8.610 desses pedidos, sendo assim: Ela atendeu 76.76% de suas reclamações.\n",
    "\n",
    "# 8610 / 11216 * 100.\n",
    "\n",
    "calc = 8610 / 11216 * 100 \n",
    "\n",
    "print(calc)"
   ]
  },
  {
   "cell_type": "code",
   "execution_count": null,
   "id": "3e5f401e-f8a7-4275-baa6-fb1d8953c269",
   "metadata": {},
   "outputs": [],
   "source": []
  },
  {
   "cell_type": "code",
   "execution_count": 39,
   "id": "21fc6682-2e85-4586-ab56-8d9285f83348",
   "metadata": {},
   "outputs": [],
   "source": [
    "9. #Monte um gráfico mostrando a quantidade de reclamações por região, separando as mesmas por sexo.\n",
    "\n",
    "\n",
    "data_temp = data[['Regiao', 'SexoConsumidor', 'Atendida']]"
   ]
  },
  {
   "cell_type": "code",
   "execution_count": 40,
   "id": "0b602565-c22b-4e90-9fe1-1218c68b3f6e",
   "metadata": {},
   "outputs": [
    {
     "data": {
      "text/plain": [
       "<AxesSubplot:xlabel='Regiao', ylabel='count'>"
      ]
     },
     "execution_count": 40,
     "metadata": {},
     "output_type": "execute_result"
    },
    {
     "data": {
      "image/png": "[encoded data removed]",
      "text/plain": [
       "<Figure size 864x864 with 1 Axes>"
      ]
     },
     "metadata": {},
     "output_type": "display_data"
    }
   ],
   "source": [
    "#R9 = Abaixo no gráfico, é mostrado a quantidade de reclamações, separadas por sexos.\n",
    "\n",
    "sns.countplot(x = 'Regiao', hue = 'SexoConsumidor', data = data_temp)"
   ]
  },
  {
   "cell_type": "code",
   "execution_count": 41,
   "id": "a56eac2c-497e-4ca5-a454-e3741c31bca6",
   "metadata": {},
   "outputs": [],
   "source": [
    "#10. Elabore um gráfico de linhas com a quantidade de reclamações por mês. Este gráfico lembra alguma distribuição estatística?"
   ]
  },
  {
   "cell_type": "code",
   "execution_count": 51,
   "id": "da37f251-4bdf-4dbe-9f35-9f463be45757",
   "metadata": {},
   "outputs": [
    {
     "data": {
      "text/plain": [
       "<AxesSubplot:>"
      ]
     },
     "execution_count": 51,
     "metadata": {},
     "output_type": "execute_result"
    },
    {
     "data": {
      "image/png": "[encoded data removed]",
      "text/plain": [
       "<Figure size 864x864 with 1 Axes>"
      ]
     },
     "metadata": {},
     "output_type": "display_data"
    }
   ],
   "source": [
    "data_temp = data[['DataArquivamento', 'Atendida']]\n",
    "\n",
    "dtype = 'object'\n",
    "month = data_temp.query(\"DataArquivamento == ['01', '02', '03', '04', '05', '06', '07', '08', '09', '10', '11', '12']\")\n",
    "sns.lineplot(data = month, x = 'DataArquivamento', y = 'Atendida')"
   ]
  },
  {
   "cell_type": "code",
   "execution_count": 41,
   "id": "6f919c88-42cc-4871-9c4d-e8eff20836d1",
   "metadata": {},
   "outputs": [],
   "source": [
    "#11. Elabore um gráfico boxplot mostrando a quantidade de reclamações por região."
   ]
  },
  {
   "cell_type": "code",
   "execution_count": 42,
   "id": "99c78636-d283-4e0c-a6a2-2111455d67a6",
   "metadata": {},
   "outputs": [],
   "source": [
    "data_temp = data[['CodigoRegiao', 'Atendida', 'Regiao']]"
   ]
  },
  {
   "cell_type": "code",
   "execution_count": 43,
   "id": "d376f12e-8f8d-44bc-8bee-20060b97713f",
   "metadata": {},
   "outputs": [
    {
     "data": {
      "text/plain": [
       "2    66411\n",
       "3    62974\n",
       "5    28786\n",
       "4    26113\n",
       "1    19201\n",
       "Name: CodigoRegiao, dtype: int64"
      ]
     },
     "execution_count": 43,
     "metadata": {},
     "output_type": "execute_result"
    }
   ],
   "source": [
    "data_temp['CodigoRegiao'].value_counts()"
   ]
  },
  {
   "cell_type": "code",
   "execution_count": 44,
   "id": "8e74b888-2dc3-46b6-86ef-569446c5c05d",
   "metadata": {},
   "outputs": [
    {
     "data": {
      "text/plain": [
       "S    120575\n",
       "N     82910\n",
       "Name: Atendida, dtype: int64"
      ]
     },
     "execution_count": 44,
     "metadata": {},
     "output_type": "execute_result"
    }
   ],
   "source": [
    "data_temp['Atendida'].value_counts()"
   ]
  },
  {
   "cell_type": "code",
   "execution_count": 45,
   "id": "60827829",
   "metadata": {},
   "outputs": [
    {
     "data": {
      "text/plain": [
       "<AxesSubplot:xlabel='CodigoRegiao', ylabel='Atendida'>"
      ]
     },
     "execution_count": 45,
     "metadata": {},
     "output_type": "execute_result"
    },
    {
     "data": {
      "image/png": "[encoded data removed]",
      "text/plain": [
       "<Figure size 864x864 with 1 Axes>"
      ]
     },
     "metadata": {},
     "output_type": "display_data"
    }
   ],
   "source": [
    "sns.boxplot(x = 'CodigoRegiao', y = 'Atendida',  data = data_temp, notch=True, palette = 'Set3')"
   ]
  },
  {
   "cell_type": "code",
   "execution_count": 46,
   "id": "7daf191b",
   "metadata": {},
   "outputs": [
    {
     "data": {
      "text/plain": [
       "Nordeste        66411\n",
       "Sudeste         62974\n",
       "Centro-oeste    28786\n",
       "Sul             26113\n",
       "Norte           19201\n",
       "Name: Regiao, dtype: int64"
      ]
     },
     "execution_count": 46,
     "metadata": {},
     "output_type": "execute_result"
    }
   ],
   "source": [
    "data_temp['Regiao'].value_counts()"
   ]
  },
  {
   "cell_type": "code",
   "execution_count": 4,
   "id": "8c1f6a8d",
   "metadata": {},
   "outputs": [
    {
     "data": {
      "text/html": [
       "<div>\n",
       "<style scoped>\n",
       "    .dataframe tbody tr th:only-of-type {\n",
       "        vertical-align: middle;\n",
       "    }\n",
       "\n",
       "    .dataframe tbody tr th {\n",
       "        vertical-align: top;\n",
       "    }\n",
       "\n",
       "    .dataframe thead th {\n",
       "        text-align: right;\n",
       "    }\n",
       "</style>\n",
       "<table border=\"1\" class=\"dataframe\">\n",
       "  <thead>\n",
       "    <tr style=\"text-align: right;\">\n",
       "      <th></th>\n",
       "      <th>AnoCalendario</th>\n",
       "      <th>CodigoRegiao</th>\n",
       "      <th>Tipo</th>\n",
       "      <th>NumeroCNPJ</th>\n",
       "      <th>RadicalCNPJ</th>\n",
       "      <th>CNAEPrincipal</th>\n",
       "      <th>CodigoAssunto</th>\n",
       "      <th>CodigoProblema</th>\n",
       "      <th>CEPConsumidor</th>\n",
       "    </tr>\n",
       "  </thead>\n",
       "  <tbody>\n",
       "    <tr>\n",
       "      <th>AnoCalendario</th>\n",
       "      <td>NaN</td>\n",
       "      <td>NaN</td>\n",
       "      <td>NaN</td>\n",
       "      <td>NaN</td>\n",
       "      <td>NaN</td>\n",
       "      <td>NaN</td>\n",
       "      <td>NaN</td>\n",
       "      <td>NaN</td>\n",
       "      <td>NaN</td>\n",
       "    </tr>\n",
       "    <tr>\n",
       "      <th>CodigoRegiao</th>\n",
       "      <td>NaN</td>\n",
       "      <td>1.000000</td>\n",
       "      <td>-0.038179</td>\n",
       "      <td>0.032103</td>\n",
       "      <td>0.020812</td>\n",
       "      <td>0.019566</td>\n",
       "      <td>0.062238</td>\n",
       "      <td>0.074613</td>\n",
       "      <td>0.224445</td>\n",
       "    </tr>\n",
       "    <tr>\n",
       "      <th>Tipo</th>\n",
       "      <td>NaN</td>\n",
       "      <td>-0.038179</td>\n",
       "      <td>1.000000</td>\n",
       "      <td>0.052224</td>\n",
       "      <td>-0.679319</td>\n",
       "      <td>NaN</td>\n",
       "      <td>-0.032525</td>\n",
       "      <td>-0.027192</td>\n",
       "      <td>-0.011853</td>\n",
       "    </tr>\n",
       "    <tr>\n",
       "      <th>NumeroCNPJ</th>\n",
       "      <td>NaN</td>\n",
       "      <td>0.032103</td>\n",
       "      <td>0.052224</td>\n",
       "      <td>1.000000</td>\n",
       "      <td>-0.024873</td>\n",
       "      <td>-0.012311</td>\n",
       "      <td>-0.031156</td>\n",
       "      <td>-0.010832</td>\n",
       "      <td>0.031453</td>\n",
       "    </tr>\n",
       "    <tr>\n",
       "      <th>RadicalCNPJ</th>\n",
       "      <td>NaN</td>\n",
       "      <td>0.020812</td>\n",
       "      <td>-0.679319</td>\n",
       "      <td>-0.024873</td>\n",
       "      <td>1.000000</td>\n",
       "      <td>-0.012311</td>\n",
       "      <td>0.011374</td>\n",
       "      <td>0.012190</td>\n",
       "      <td>0.007560</td>\n",
       "    </tr>\n",
       "    <tr>\n",
       "      <th>CNAEPrincipal</th>\n",
       "      <td>NaN</td>\n",
       "      <td>0.019566</td>\n",
       "      <td>NaN</td>\n",
       "      <td>-0.012311</td>\n",
       "      <td>-0.012311</td>\n",
       "      <td>1.000000</td>\n",
       "      <td>0.154995</td>\n",
       "      <td>0.099880</td>\n",
       "      <td>-0.089026</td>\n",
       "    </tr>\n",
       "    <tr>\n",
       "      <th>CodigoAssunto</th>\n",
       "      <td>NaN</td>\n",
       "      <td>0.062238</td>\n",
       "      <td>-0.032525</td>\n",
       "      <td>-0.031156</td>\n",
       "      <td>0.011374</td>\n",
       "      <td>0.154995</td>\n",
       "      <td>1.000000</td>\n",
       "      <td>0.669414</td>\n",
       "      <td>-0.077216</td>\n",
       "    </tr>\n",
       "    <tr>\n",
       "      <th>CodigoProblema</th>\n",
       "      <td>NaN</td>\n",
       "      <td>0.074613</td>\n",
       "      <td>-0.027192</td>\n",
       "      <td>-0.010832</td>\n",
       "      <td>0.012190</td>\n",
       "      <td>0.099880</td>\n",
       "      <td>0.669414</td>\n",
       "      <td>1.000000</td>\n",
       "      <td>-0.038196</td>\n",
       "    </tr>\n",
       "    <tr>\n",
       "      <th>CEPConsumidor</th>\n",
       "      <td>NaN</td>\n",
       "      <td>0.224445</td>\n",
       "      <td>-0.011853</td>\n",
       "      <td>0.031453</td>\n",
       "      <td>0.007560</td>\n",
       "      <td>-0.089026</td>\n",
       "      <td>-0.077216</td>\n",
       "      <td>-0.038196</td>\n",
       "      <td>1.000000</td>\n",
       "    </tr>\n",
       "  </tbody>\n",
       "</table>\n",
       "</div>"
      ],
      "text/plain": [
       "                AnoCalendario  CodigoRegiao      Tipo  NumeroCNPJ  \\\n",
       "AnoCalendario             NaN           NaN       NaN         NaN   \n",
       "CodigoRegiao              NaN      1.000000 -0.038179    0.032103   \n",
       "Tipo                      NaN     -0.038179  1.000000    0.052224   \n",
       "NumeroCNPJ                NaN      0.032103  0.052224    1.000000   \n",
       "RadicalCNPJ               NaN      0.020812 -0.679319   -0.024873   \n",
       "CNAEPrincipal             NaN      0.019566       NaN   -0.012311   \n",
       "CodigoAssunto             NaN      0.062238 -0.032525   -0.031156   \n",
       "CodigoProblema            NaN      0.074613 -0.027192   -0.010832   \n",
       "CEPConsumidor             NaN      0.224445 -0.011853    0.031453   \n",
       "\n",
       "                RadicalCNPJ  CNAEPrincipal  CodigoAssunto  CodigoProblema  \\\n",
       "AnoCalendario           NaN            NaN            NaN             NaN   \n",
       "CodigoRegiao       0.020812       0.019566       0.062238        0.074613   \n",
       "Tipo              -0.679319            NaN      -0.032525       -0.027192   \n",
       "NumeroCNPJ        -0.024873      -0.012311      -0.031156       -0.010832   \n",
       "RadicalCNPJ        1.000000      -0.012311       0.011374        0.012190   \n",
       "CNAEPrincipal     -0.012311       1.000000       0.154995        0.099880   \n",
       "CodigoAssunto      0.011374       0.154995       1.000000        0.669414   \n",
       "CodigoProblema     0.012190       0.099880       0.669414        1.000000   \n",
       "CEPConsumidor      0.007560      -0.089026      -0.077216       -0.038196   \n",
       "\n",
       "                CEPConsumidor  \n",
       "AnoCalendario             NaN  \n",
       "CodigoRegiao         0.224445  \n",
       "Tipo                -0.011853  \n",
       "NumeroCNPJ           0.031453  \n",
       "RadicalCNPJ          0.007560  \n",
       "CNAEPrincipal       -0.089026  \n",
       "CodigoAssunto       -0.077216  \n",
       "CodigoProblema      -0.038196  \n",
       "CEPConsumidor        1.000000  "
      ]
     },
     "execution_count": 4,
     "metadata": {},
     "output_type": "execute_result"
    }
   ],
   "source": [
    "data.corr()"
   ]
  },
  {
   "cell_type": "code",
   "execution_count": 9,
   "id": "66e7ba18",
   "metadata": {},
   "outputs": [
    {
     "data": {
      "image/png": "[encoded data removed]",
      "text/plain": [
       "<Figure size 1152x432 with 3 Axes>"
      ]
     },
     "metadata": {
      "needs_background": "light"
     },
     "output_type": "display_data"
    }
   ],
   "source": [
    "plt.figure(figsize=(16, 6))\n",
    "sns.heatmap(data.corr());\n",
    "heatmap = sns.heatmap(data.corr(), vmin=-1, vmax=1, annot=True)\n",
    "heatmap.set_title('Mapa De Calor Correlacional', fontdict={'fontsize':12}, pad=15);"
   ]
  },
  {
   "cell_type": "code",
   "execution_count": null,
   "id": "c1477d58",
   "metadata": {},
   "outputs": [],
   "source": []
  }
 ],
 "metadata": {
  "kernelspec": {
   "display_name": "Python 3 (ipykernel)",
   "language": "python",
   "name": "python3"
  },
  "language_info": {
   "codemirror_mode": {
    "name": "ipython",
    "version": 3
   },
   "file_extension": ".py",
   "mimetype": "text/x-python",
   "name": "python",
   "nbconvert_exporter": "python",
   "pygments_lexer": "ipython3",
   "version": "3.9.7"
  }
 },
 "nbformat": 4,
 "nbformat_minor": 5
}
